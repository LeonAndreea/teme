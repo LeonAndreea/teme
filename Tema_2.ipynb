{
 "cells": [
  {
   "cell_type": "code",
   "execution_count": 1,
   "metadata": {},
   "outputs": [],
   "source": [
    "import numpy as np"
   ]
  },
  {
   "cell_type": "code",
   "execution_count": 11,
   "metadata": {},
   "outputs": [
    {
     "name": "stdout",
     "output_type": "stream",
     "text": [
      "[[0. 0. 0. 0. 0.]\n",
      " [0. 0. 0. 0. 0.]]\n"
     ]
    }
   ],
   "source": [
    "zeros=np.zeros((2,5))\n",
    "print(zeros)"
   ]
  },
  {
   "cell_type": "code",
   "execution_count": 6,
   "metadata": {},
   "outputs": [
    {
     "data": {
      "text/plain": [
       "10"
      ]
     },
     "execution_count": 6,
     "metadata": {},
     "output_type": "execute_result"
    }
   ],
   "source": [
    "np.size(zeros) # are 10 elemente ( = zerouri)"
   ]
  },
  {
   "cell_type": "code",
   "execution_count": 25,
   "metadata": {},
   "outputs": [
    {
     "name": "stdout",
     "output_type": "stream",
     "text": [
      "[10 11 12 13 14 15 16 17 18 19 20 21 22 23 24 25 26 27 28 29 30 31 32 33\n",
      " 34 35 36 37 38 39 40 41 42 43 44 45 46 47 48 49 50 51 52 53 54 55 56 57\n",
      " 58 59 60 61 62 63 64 65 66 67 68 69 70 71 72 73 74 75 76 77 78 79 80 81\n",
      " 82 83 84 85 86 87 88 89 90 91 92 93 94 95 96 97 98 99]\n"
     ]
    }
   ],
   "source": [
    "vector=np.arange(10,100)\n",
    "print(vector)"
   ]
  },
  {
   "cell_type": "code",
   "execution_count": 26,
   "metadata": {},
   "outputs": [
    {
     "data": {
      "text/plain": [
       "(90,)"
      ]
     },
     "execution_count": 26,
     "metadata": {},
     "output_type": "execute_result"
    }
   ],
   "source": [
    "vector.shape # o linie si 90 de coloane "
   ]
  },
  {
   "cell_type": "code",
   "execution_count": 40,
   "metadata": {},
   "outputs": [
    {
     "name": "stdout",
     "output_type": "stream",
     "text": [
      "[[10 11 12 13 14 15 16 17 18 19 20 21 22 23 24 25 26 27 28 29 30 31 32 33\n",
      "  34 35 36 37 38 39]\n",
      " [40 41 42 43 44 45 46 47 48 49 50 51 52 53 54 55 56 57 58 59 60 61 62 63\n",
      "  64 65 66 67 68 69]\n",
      " [70 71 72 73 74 75 76 77 78 79 80 81 82 83 84 85 86 87 88 89 90 91 92 93\n",
      "  94 95 96 97 98 99]]\n"
     ]
    }
   ],
   "source": [
    "a=np.arange(10,100).reshape(3,30)\n",
    "print(a)"
   ]
  },
  {
   "cell_type": "code",
   "execution_count": 41,
   "metadata": {},
   "outputs": [
    {
     "data": {
      "text/plain": [
       "(3, 30)"
      ]
     },
     "execution_count": 41,
     "metadata": {},
     "output_type": "execute_result"
    }
   ],
   "source": [
    "a.shape  # are 3 linii si 30 de coloane "
   ]
  },
  {
   "cell_type": "code",
   "execution_count": 42,
   "metadata": {},
   "outputs": [
    {
     "name": "stdout",
     "output_type": "stream",
     "text": [
      "[[10 40 70]\n",
      " [11 41 71]\n",
      " [12 42 72]\n",
      " [13 43 73]\n",
      " [14 44 74]\n",
      " [15 45 75]\n",
      " [16 46 76]\n",
      " [17 47 77]\n",
      " [18 48 78]\n",
      " [19 49 79]\n",
      " [20 50 80]\n",
      " [21 51 81]\n",
      " [22 52 82]\n",
      " [23 53 83]\n",
      " [24 54 84]\n",
      " [25 55 85]\n",
      " [26 56 86]\n",
      " [27 57 87]\n",
      " [28 58 88]\n",
      " [29 59 89]\n",
      " [30 60 90]\n",
      " [31 61 91]\n",
      " [32 62 92]\n",
      " [33 63 93]\n",
      " [34 64 94]\n",
      " [35 65 95]\n",
      " [36 66 96]\n",
      " [37 67 97]\n",
      " [38 68 98]\n",
      " [39 69 99]]\n"
     ]
    }
   ],
   "source": [
    "t=a.T # transpusa\n",
    "print(t)"
   ]
  },
  {
   "cell_type": "code",
   "execution_count": 43,
   "metadata": {},
   "outputs": [
    {
     "data": {
      "text/plain": [
       "(30, 3)"
      ]
     },
     "execution_count": 43,
     "metadata": {},
     "output_type": "execute_result"
    }
   ],
   "source": [
    "t.shape # are 30 de linii si 3 coloane "
   ]
  },
  {
   "cell_type": "code",
   "execution_count": 45,
   "metadata": {},
   "outputs": [
    {
     "name": "stdout",
     "output_type": "stream",
     "text": [
      "[1, 2, 9, 0, 0, 1, 4, 0]\n"
     ]
    }
   ],
   "source": [
    "vec=[1,2,9,0,0,1,4,0]\n",
    "print(vec)"
   ]
  },
  {
   "cell_type": "code",
   "execution_count": 51,
   "metadata": {},
   "outputs": [
    {
     "name": "stdout",
     "output_type": "stream",
     "text": [
      "[1 2 9 1 4]\n"
     ]
    }
   ],
   "source": [
    "index=np.array([vec[0],vec[1],vec[2],vec[5],vec[6]])\n",
    "print(index)"
   ]
  },
  {
   "cell_type": "code",
   "execution_count": 78,
   "metadata": {},
   "outputs": [
    {
     "name": "stdout",
     "output_type": "stream",
     "text": [
      "0\n",
      "1\n",
      "2\n",
      "5\n",
      "6\n"
     ]
    }
   ],
   "source": [
    "vec= [1, 2, 9, 0, 0, 1, 4, 0]\n",
    "for i in range(len(vec)):\n",
    "    if vec[i]!=0:\n",
    "        rez=i     \n",
    "        print(rez)\n",
    "        \n",
    "        # indicii ale caror elemente suunt diferite de zero "
   ]
  },
  {
   "cell_type": "code",
   "execution_count": 87,
   "metadata": {},
   "outputs": [
    {
     "data": {
      "text/plain": [
       "array([[1, 1, 1],\n",
       "       [1, 1, 1],\n",
       "       [1, 1, 1]], dtype=int16)"
      ]
     },
     "execution_count": 87,
     "metadata": {},
     "output_type": "execute_result"
    }
   ],
   "source": [
    "i=np.ones((3,3), dtype=np.int16)  # matricea identica \n",
    "i"
   ]
  },
  {
   "cell_type": "code",
   "execution_count": 90,
   "metadata": {},
   "outputs": [],
   "source": [
    "import matplotlib.pyplot as plt"
   ]
  },
  {
   "cell_type": "code",
   "execution_count": 105,
   "metadata": {},
   "outputs": [
    {
     "data": {
      "text/plain": [
       "array([-1.        , -0.95918367, -0.91836735, -0.87755102, -0.83673469,\n",
       "       -0.79591837, -0.75510204, -0.71428571, -0.67346939, -0.63265306,\n",
       "       -0.59183673, -0.55102041, -0.51020408, -0.46938776, -0.42857143,\n",
       "       -0.3877551 , -0.34693878, -0.30612245, -0.26530612, -0.2244898 ,\n",
       "       -0.18367347, -0.14285714, -0.10204082, -0.06122449, -0.02040816,\n",
       "        0.02040816,  0.06122449,  0.10204082,  0.14285714,  0.18367347,\n",
       "        0.2244898 ,  0.26530612,  0.30612245,  0.34693878,  0.3877551 ,\n",
       "        0.42857143,  0.46938776,  0.51020408,  0.55102041,  0.59183673,\n",
       "        0.63265306,  0.67346939,  0.71428571,  0.75510204,  0.79591837,\n",
       "        0.83673469,  0.87755102,  0.91836735,  0.95918367,  1.        ])"
      ]
     },
     "execution_count": 105,
     "metadata": {},
     "output_type": "execute_result"
    }
   ],
   "source": [
    "y=np.linspace(-1,1,50)\n",
    "y"
   ]
  },
  {
   "cell_type": "code",
   "execution_count": 111,
   "metadata": {},
   "outputs": [
    {
     "data": {
      "text/plain": [
       "array([0.96864701, 0.23760948, 0.09167377, 0.79401005, 0.10606155,\n",
       "       0.38687559, 0.27854332, 0.79236601, 0.68692994, 0.00143675,\n",
       "       0.67363457, 0.97448017, 0.77100281, 0.40636608, 0.09368236,\n",
       "       0.1639552 , 0.09972758, 0.88495363, 0.80873929, 0.10245888,\n",
       "       0.79378394, 0.33806653, 0.75704338, 0.37647418, 0.62661837,\n",
       "       0.48934495, 0.22107359, 0.60408411, 0.35376091, 0.70194586,\n",
       "       0.5631434 , 0.37104233, 0.44832469, 0.25689781, 0.90996249,\n",
       "       0.17572415, 0.04124939, 0.55395257, 0.25357172, 0.28516871,\n",
       "       0.47392108, 0.5766265 , 0.63880159, 0.87062151, 0.0709335 ,\n",
       "       0.21668233, 0.20364341, 0.5831795 , 0.1129086 , 0.48783937])"
      ]
     },
     "execution_count": 111,
     "metadata": {},
     "output_type": "execute_result"
    }
   ],
   "source": [
    "x=np.random.rand(50)\n",
    "x"
   ]
  },
  {
   "cell_type": "code",
   "execution_count": 110,
   "metadata": {},
   "outputs": [
    {
     "data": {
      "text/plain": [
       "<function matplotlib.pyplot.show(*args, **kw)>"
      ]
     },
     "execution_count": 110,
     "metadata": {},
     "output_type": "execute_result"
    },
    {
     "data": {
      "image/png": "[encoded data removed]",
      "text/plain": [
       "<Figure size 432x288 with 1 Axes>"
      ]
     },
     "metadata": {
      "needs_background": "light"
     },
     "output_type": "display_data"
    }
   ],
   "source": [
    "plt.plot(x,y,label='uniform_distribution')\n",
    "\n",
    "plt.xlabel('x')\n",
    "plt.ylabel('y')\n",
    "plt.title('Uniform_Distribution')\n",
    "\n",
    "plt.show"
   ]
  },
  {
   "cell_type": "code",
   "execution_count": 113,
   "metadata": {},
   "outputs": [
    {
     "name": "stdout",
     "output_type": "stream",
     "text": [
      "[[0 0 0 0 0]\n",
      " [1 0 0 0 0]\n",
      " [1 2 0 0 0]\n",
      " [1 2 3 0 0]\n",
      " [1 2 3 4 0]]\n"
     ]
    }
   ],
   "source": [
    "A=np.array([[0,0,0,0,0],[1,0,0,0,0],[1,2,0,0,0],[1,2,3,0,0],[1,2,3,4,0]])\n",
    "print(A)"
   ]
  },
  {
   "cell_type": "code",
   "execution_count": 117,
   "metadata": {},
   "outputs": [
    {
     "name": "stdout",
     "output_type": "stream",
     "text": [
      "[[1 2 3]\n",
      " [2 3 4]\n",
      " [3 4 5]\n",
      " [0 1 2]\n",
      " [2 3 1]]\n",
      "(5, 3)\n",
      "[[ 0  1  2  3]\n",
      " [ 1  3 -1 -3]\n",
      " [-1  2 -2  0]]\n",
      "(3, 4)\n"
     ]
    },
    {
     "data": {
      "text/plain": [
       "(None, None)"
      ]
     },
     "execution_count": 117,
     "metadata": {},
     "output_type": "execute_result"
    }
   ],
   "source": [
    "B=np.array([[1,2,3],[2,3,4],[3,4,5],[0,1,2],[2,3,1]])\n",
    "C=np.array([[0,1,2,3],[1,3,-1,-3],[-1,2,-2,0]])\n",
    "print(B), print(B.shape)\n",
    "print(C), print(C.shape)"
   ]
  },
  {
   "cell_type": "code",
   "execution_count": 120,
   "metadata": {},
   "outputs": [
    {
     "name": "stdout",
     "output_type": "stream",
     "text": [
      "[[-1 13 -6 -3]\n",
      " [-1 19 -7 -3]\n",
      " [-1 25 -8 -3]\n",
      " [-1  7 -5 -3]\n",
      " [ 2 13 -1 -3]]\n"
     ]
    }
   ],
   "source": [
    "D=np.dot(B,C)\n",
    "print(D)"
   ]
  },
  {
   "cell_type": "code",
   "execution_count": 121,
   "metadata": {},
   "outputs": [
    {
     "name": "stdout",
     "output_type": "stream",
     "text": [
      "[ 0.34421855 -0.33938071  1.44572088  1.50238173  0.95278712  0.1618849\n",
      "  0.19484724  0.03640342  2.42445386  0.14916957  1.42603801 -1.37018025\n",
      "  2.36411819 -0.94795443 -0.02464457 -1.71179124 -0.37443005 -0.93311546\n",
      " -0.37442051 -0.67359337 -1.83807988 -0.17877305 -0.32205757  3.12380952\n",
      " -0.61337475]\n"
     ]
    }
   ],
   "source": [
    "F=np.random.randn(25)\n",
    "print(F)"
   ]
  },
  {
   "cell_type": "code",
   "execution_count": 128,
   "metadata": {},
   "outputs": [
    {
     "data": {
      "text/plain": [
       "array([-1.83807988, -1.71179124, -1.37018025, -0.94795443, -0.93311546,\n",
       "       -0.67359337, -0.61337475, -0.37443005, -0.37442051, -0.33938071,\n",
       "       -0.32205757, -0.17877305, -0.02464457,  0.03640342,  0.14916957,\n",
       "        0.1618849 ,  0.19484724,  0.34421855,  0.95278712,  1.42603801,\n",
       "        1.44572088,  1.50238173,  2.36411819,  2.42445386,  3.12380952])"
      ]
     },
     "execution_count": 128,
     "metadata": {},
     "output_type": "execute_result"
    }
   ],
   "source": [
    "np.sort(F,axis=0)  # sort along the first axis\n"
   ]
  },
  {
   "cell_type": "code",
   "execution_count": null,
   "metadata": {},
   "outputs": [],
   "source": []
  }
 ],
 "metadata": {
  "kernelspec": {
   "display_name": "Python 3",
   "language": "python",
   "name": "python3"
  },
  "language_info": {
   "codemirror_mode": {
    "name": "ipython",
    "version": 3
   },
   "file_extension": ".py",
   "mimetype": "text/x-python",
   "name": "python",
   "nbconvert_exporter": "python",
   "pygments_lexer": "ipython3",
   "version": "3.7.4"
  }
 },
 "nbformat": 4,
 "nbformat_minor": 2
}
