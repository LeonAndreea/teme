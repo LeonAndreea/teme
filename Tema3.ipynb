{
 "cells": [
  {
   "cell_type": "code",
   "execution_count": 32,
   "metadata": {},
   "outputs": [],
   "source": [
    "\n"
   ]
  },
  {
   "cell_type": "code",
   "execution_count": null,
   "metadata": {},
   "outputs": [],
   "source": [
    "# EXERCITIUL 1"
   ]
  },
  {
   "cell_type": "code",
   "execution_count": 38,
   "metadata": {},
   "outputs": [
    {
     "name": "stdout",
     "output_type": "stream",
     "text": [
      "Heads:  3 0.1\n",
      "Tails:  4 0.9\n",
      "0.9999999999999998\n",
      "Power_divergenceResult(statistic=0.14285714285714285, pvalue=0.7054569861112734)\n"
     ]
    }
   ],
   "source": [
    "# 1. Ar fi interesant de facut un experiment cu 5, 10, 30 de observatii. Notati rezultatele.\n",
    "# 2. Testati rezultatele cu hypothesis testing folosind ca ipoteza nula p=0.5.\n",
    "import numpy as np\n",
    "import scipy.stats as stats\n",
    "draws1 = 5\n",
    "coin_sample1 =np.random.binomial(1, 0.5, draws1)\n",
    "coin_average1 = [coin_sample1[:jj].mean() for jj in range(1, draws1)]\n",
    "\n",
    "heads1 = np.sum(coin_sample1[coin_sample1==1])\n",
    "print('Heads: ', heads1, heads/draws)\n",
    "print('Tails: ', 5-heads, 1-heads/draws)\n",
    "print(stats.binom_test(x=[5-heads, heads1], p=0.5, alternative='two-sided')) # Hypothesis testing\n",
    "print(stats.chisquare(f_obs=[5-heads, heads1]))\n"
   ]
  },
  {
   "cell_type": "code",
   "execution_count": 39,
   "metadata": {},
   "outputs": [
    {
     "name": "stdout",
     "output_type": "stream",
     "text": [
      "Heads:  1 0.1\n",
      "Tails:  9 0.9\n",
      "0.26684570312499983\n",
      "Power_divergenceResult(statistic=1.9230769230769231, pvalue=0.16551785869746605)\n"
     ]
    }
   ],
   "source": [
    "draws2 = 10\n",
    "coin_sample2 =np.random.binomial(1, 0.5, draws2)\n",
    "coin_average2 = [coin_sample2[:jj].mean() for jj in range(1, draws2)]\n",
    "\n",
    "heads2 = np.sum(coin_sample2[coin_sample2==1])\n",
    "print('Heads: ', heads, heads/draws)\n",
    "print('Tails: ', 10-heads, 1-heads/draws)\n",
    "print(stats.binom_test(x=[10-heads, heads2], p=0.5, alternative='two-sided'))\n",
    "print(stats.chisquare(f_obs=[10-heads, heads2]))"
   ]
  },
  {
   "cell_type": "code",
   "execution_count": 40,
   "metadata": {},
   "outputs": [
    {
     "name": "stdout",
     "output_type": "stream",
     "text": [
      "Heads:  10 0.1\n",
      "Tails:  29 0.9\n",
      "0.003377847911906429\n",
      "Power_divergenceResult(statistic=9.256410256410257, pvalue=0.0023467255438812877)\n"
     ]
    }
   ],
   "source": [
    "draws3 = 30\n",
    "coin_sample3 = np.random.binomial(1, 0.5, draws3)\n",
    "coin_average3 = [coin_sample3[:jj].mean() for jj in range(1, draws3)]\n",
    "\n",
    "heads3 = np.sum(coin_sample3[coin_sample3==1])\n",
    "print('Heads: ', heads3, heads/draws)\n",
    "print('Tails: ', 30-heads, 1-heads/draws)\n",
    "print(stats.binom_test(x=[30-heads, heads3], p=0.5, alternative='two-sided'))\n",
    "print(stats.chisquare(f_obs=[30-heads, heads3]))"
   ]
  },
  {
   "cell_type": "code",
   "execution_count": 30,
   "metadata": {},
   "outputs": [],
   "source": [
    "# 3. Ce putem spune despre felul in care evolueaza intervalul de incredere?\n",
    "# Se stie ca intervalele de incredere devin mai restranse, daca numarul de incercari esta mai mare."
   ]
  },
  {
   "cell_type": "code",
   "execution_count": 49,
   "metadata": {},
   "outputs": [
    {
     "name": "stdout",
     "output_type": "stream",
     "text": [
      "Sample mean:  0.6\n",
      "Sample variance:  0.24000000000000005\n",
      "Standard deviation:  0.48989794855663565\n",
      "Confidence interval: (0.11990883236446898, 1.080091167635531)\n"
     ]
    }
   ],
   "source": [
    "import math as m\n",
    "\n",
    "print('Sample mean: ', np.mean(coin_sample1))\n",
    "print('Sample variance: ', np.var(coin_sample1))\n",
    "print('Standard deviation: ', m.sqrt(np.var(coin_sample1)))\n",
    "\n",
    "n, min_max, mean, var, skew, kurt = stats.describe(coin_sample1)\n",
    "std=m.sqrt(var)\n",
    "\n",
    "# We will assume a normal distribution\n",
    "print('Confidence interval:', stats.norm.interval(0.95,loc=mean,scale=std/m.sqrt(n)))\n"
   ]
  },
  {
   "cell_type": "code",
   "execution_count": 50,
   "metadata": {},
   "outputs": [
    {
     "name": "stdout",
     "output_type": "stream",
     "text": [
      "Sample mean:  0.4\n",
      "Sample variance:  0.24\n",
      "Standard deviation:  0.4898979485566356\n",
      "Confidence interval: (0.07993922157631272, 0.7200607784236873)\n"
     ]
    }
   ],
   "source": [
    "print('Sample mean: ', np.mean(coin_sample2))\n",
    "print('Sample variance: ', np.var(coin_sample2))\n",
    "print('Standard deviation: ', m.sqrt(np.var(coin_sample2)))\n",
    "\n",
    "n, min_max, mean, var, skew, kurt = stats.describe(coin_sample2)\n",
    "std=m.sqrt(var)\n",
    "\n",
    "# We will assume a normal distribution\n",
    "print('Confidence interval:', stats.norm.interval(0.95,loc=mean,scale=std/m.sqrt(n)))\n"
   ]
  },
  {
   "cell_type": "code",
   "execution_count": 51,
   "metadata": {},
   "outputs": [
    {
     "name": "stdout",
     "output_type": "stream",
     "text": [
      "Sample mean:  0.3333333333333333\n",
      "Sample variance:  0.2222222222222222\n",
      "Standard deviation:  0.4714045207910317\n",
      "Confidence interval: (0.1617627471043447, 0.504903919562322)\n"
     ]
    }
   ],
   "source": [
    "\n",
    "print('Sample mean: ', np.mean(coin_sample3))\n",
    "print('Sample variance: ', np.var(coin_sample3))\n",
    "print('Standard deviation: ', m.sqrt(np.var(coin_sample3)))\n",
    "\n",
    "n, min_max, mean, var, skew, kurt = stats.describe(coin_sample3)\n",
    "std=m.sqrt(var)\n",
    "\n",
    "# We will assume a normal distribution\n",
    "print('Confidence interval:', stats.norm.interval(0.95,loc=mean,scale=std/m.sqrt(n)))\n"
   ]
  },
  {
   "cell_type": "code",
   "execution_count": null,
   "metadata": {},
   "outputs": [],
   "source": [
    "#EXERCITIUL 2"
   ]
  },
  {
   "cell_type": "code",
   "execution_count": null,
   "metadata": {},
   "outputs": [],
   "source": [
    "#Verificati daca exista vre-o corelatie intre inaltimea fetelor sau baietilor in raport cu mamele lor. \n",
    "# 1. Masurati coeficientul de corelatie dintre aceste variabile "
   ]
  },
  {
   "cell_type": "code",
   "execution_count": 65,
   "metadata": {},
   "outputs": [],
   "source": [
    "pearson = pd.read_csv('http://www-eio.upc.edu/~pau/cms/rdata/csv/HistData/PearsonLee.csv', index_col=False)\n",
    "#pearson = pd.read_csv('pearson.csv')"
   ]
  },
  {
   "cell_type": "code",
   "execution_count": 55,
   "metadata": {},
   "outputs": [
    {
     "data": {
      "text/html": [
       "<div>\n",
       "<style scoped>\n",
       "    .dataframe tbody tr th:only-of-type {\n",
       "        vertical-align: middle;\n",
       "    }\n",
       "\n",
       "    .dataframe tbody tr th {\n",
       "        vertical-align: top;\n",
       "    }\n",
       "\n",
       "    .dataframe thead th {\n",
       "        text-align: right;\n",
       "    }\n",
       "</style>\n",
       "<table border=\"1\" class=\"dataframe\">\n",
       "  <thead>\n",
       "    <tr style=\"text-align: right;\">\n",
       "      <th></th>\n",
       "      <th>child</th>\n",
       "      <th>parent</th>\n",
       "      <th>frequency</th>\n",
       "      <th>gp</th>\n",
       "      <th>par</th>\n",
       "      <th>chl</th>\n",
       "    </tr>\n",
       "  </thead>\n",
       "  <tbody>\n",
       "    <tr>\n",
       "      <td>0</td>\n",
       "      <td>59.5</td>\n",
       "      <td>62.5</td>\n",
       "      <td>0.50</td>\n",
       "      <td>fs</td>\n",
       "      <td>Father</td>\n",
       "      <td>Son</td>\n",
       "    </tr>\n",
       "    <tr>\n",
       "      <td>1</td>\n",
       "      <td>59.5</td>\n",
       "      <td>63.5</td>\n",
       "      <td>0.50</td>\n",
       "      <td>fs</td>\n",
       "      <td>Father</td>\n",
       "      <td>Son</td>\n",
       "    </tr>\n",
       "    <tr>\n",
       "      <td>2</td>\n",
       "      <td>59.5</td>\n",
       "      <td>64.5</td>\n",
       "      <td>1.00</td>\n",
       "      <td>fs</td>\n",
       "      <td>Father</td>\n",
       "      <td>Son</td>\n",
       "    </tr>\n",
       "    <tr>\n",
       "      <td>3</td>\n",
       "      <td>60.5</td>\n",
       "      <td>62.5</td>\n",
       "      <td>0.50</td>\n",
       "      <td>fs</td>\n",
       "      <td>Father</td>\n",
       "      <td>Son</td>\n",
       "    </tr>\n",
       "    <tr>\n",
       "      <td>4</td>\n",
       "      <td>60.5</td>\n",
       "      <td>66.5</td>\n",
       "      <td>1.00</td>\n",
       "      <td>fs</td>\n",
       "      <td>Father</td>\n",
       "      <td>Son</td>\n",
       "    </tr>\n",
       "    <tr>\n",
       "      <td>...</td>\n",
       "      <td>...</td>\n",
       "      <td>...</td>\n",
       "      <td>...</td>\n",
       "      <td>...</td>\n",
       "      <td>...</td>\n",
       "      <td>...</td>\n",
       "    </tr>\n",
       "    <tr>\n",
       "      <td>95</td>\n",
       "      <td>68.5</td>\n",
       "      <td>68.5</td>\n",
       "      <td>29.00</td>\n",
       "      <td>fs</td>\n",
       "      <td>Father</td>\n",
       "      <td>Son</td>\n",
       "    </tr>\n",
       "    <tr>\n",
       "      <td>96</td>\n",
       "      <td>68.5</td>\n",
       "      <td>69.5</td>\n",
       "      <td>21.50</td>\n",
       "      <td>fs</td>\n",
       "      <td>Father</td>\n",
       "      <td>Son</td>\n",
       "    </tr>\n",
       "    <tr>\n",
       "      <td>97</td>\n",
       "      <td>68.5</td>\n",
       "      <td>70.5</td>\n",
       "      <td>10.00</td>\n",
       "      <td>fs</td>\n",
       "      <td>Father</td>\n",
       "      <td>Son</td>\n",
       "    </tr>\n",
       "    <tr>\n",
       "      <td>98</td>\n",
       "      <td>68.5</td>\n",
       "      <td>71.5</td>\n",
       "      <td>3.50</td>\n",
       "      <td>fs</td>\n",
       "      <td>Father</td>\n",
       "      <td>Son</td>\n",
       "    </tr>\n",
       "    <tr>\n",
       "      <td>99</td>\n",
       "      <td>68.5</td>\n",
       "      <td>72.5</td>\n",
       "      <td>2.25</td>\n",
       "      <td>fs</td>\n",
       "      <td>Father</td>\n",
       "      <td>Son</td>\n",
       "    </tr>\n",
       "  </tbody>\n",
       "</table>\n",
       "<p>100 rows × 6 columns</p>\n",
       "</div>"
      ],
      "text/plain": [
       "    child  parent  frequency  gp     par  chl\n",
       "0    59.5    62.5       0.50  fs  Father  Son\n",
       "1    59.5    63.5       0.50  fs  Father  Son\n",
       "2    59.5    64.5       1.00  fs  Father  Son\n",
       "3    60.5    62.5       0.50  fs  Father  Son\n",
       "4    60.5    66.5       1.00  fs  Father  Son\n",
       "..    ...     ...        ...  ..     ...  ...\n",
       "95   68.5    68.5      29.00  fs  Father  Son\n",
       "96   68.5    69.5      21.50  fs  Father  Son\n",
       "97   68.5    70.5      10.00  fs  Father  Son\n",
       "98   68.5    71.5       3.50  fs  Father  Son\n",
       "99   68.5    72.5       2.25  fs  Father  Son\n",
       "\n",
       "[100 rows x 6 columns]"
      ]
     },
     "execution_count": 55,
     "metadata": {},
     "output_type": "execute_result"
    }
   ],
   "source": [
    "pearson.head(100)"
   ]
  },
  {
   "cell_type": "code",
   "execution_count": 66,
   "metadata": {},
   "outputs": [
    {
     "data": {
      "text/plain": [
       "<matplotlib.collections.PathCollection at 0x2c0f9b83d08>"
      ]
     },
     "execution_count": 66,
     "metadata": {},
     "output_type": "execute_result"
    },
    {
     "data": {
      "image/png": "[encoded data removed]",
      "text/plain": [
       "<Figure size 432x288 with 1 Axes>"
      ]
     },
     "metadata": {
      "needs_background": "light"
     },
     "output_type": "display_data"
    }
   ],
   "source": [
    "plt.scatter(\n",
    "    pearson['child'] + np.random.normal(scale=0.2, size=pearson.shape[0]), \n",
    "    pearson['parent'] + np.random.normal(scale=0.2, size=pearson.shape[0]))"
   ]
  },
  {
   "cell_type": "code",
   "execution_count": 58,
   "metadata": {},
   "outputs": [],
   "source": [
    "ms = pearson[pearson['gp']=='ms']\n",
    "md = pearson[pearson['gp']=='md']"
   ]
  },
  {
   "cell_type": "code",
   "execution_count": 68,
   "metadata": {},
   "outputs": [
    {
     "data": {
      "text/plain": [
       "<matplotlib.collections.PathCollection at 0x2c0f9c59888>"
      ]
     },
     "execution_count": 68,
     "metadata": {},
     "output_type": "execute_result"
    },
    {
     "data": {
      "image/png": "[encoded data removed]",
      "text/plain": [
       "<Figure size 432x288 with 1 Axes>"
      ]
     },
     "metadata": {
      "needs_background": "light"
     },
     "output_type": "display_data"
    }
   ],
   "source": [
    "plt.scatter(\n",
    "    ms['child'] + np.random.normal(scale=0.2, size=ms.shape[0]), \n",
    "    ms['parent'] + np.random.normal(scale=0.2, size=ms.shape[0]), c='r')\n",
    "plt.scatter(\n",
    "    md['child'] + np.random.normal(scale=0.2, size=md.shape[0]), \n",
    "    md['parent'] + np.random.normal(scale=0.2, size=md.shape[0]), c='b')"
   ]
  },
  {
   "cell_type": "code",
   "execution_count": 71,
   "metadata": {},
   "outputs": [
    {
     "data": {
      "text/plain": [
       "(0.48491768425178655, 9.100362271636465e-12)"
      ]
     },
     "execution_count": 71,
     "metadata": {},
     "output_type": "execute_result"
    }
   ],
   "source": [
    "stats.pearsonr(ms['parent'], ms['child'])\n"
   ]
  },
  {
   "cell_type": "code",
   "execution_count": 72,
   "metadata": {},
   "outputs": [
    {
     "data": {
      "text/plain": [
       "(0.46743677130124, 1.9747722235599194e-11)"
      ]
     },
     "execution_count": 72,
     "metadata": {},
     "output_type": "execute_result"
    }
   ],
   "source": [
    "stats.pearsonr(md['parent'], md['child'])"
   ]
  },
  {
   "cell_type": "code",
   "execution_count": null,
   "metadata": {},
   "outputs": [],
   "source": []
  },
  {
   "cell_type": "code",
   "execution_count": null,
   "metadata": {},
   "outputs": [],
   "source": []
  }
 ],
 "metadata": {
  "kernelspec": {
   "display_name": "Python 3",
   "language": "python",
   "name": "python3"
  },
  "language_info": {
   "codemirror_mode": {
    "name": "ipython",
    "version": 3
   },
   "file_extension": ".py",
   "mimetype": "text/x-python",
   "name": "python",
   "nbconvert_exporter": "python",
   "pygments_lexer": "ipython3",
   "version": "3.7.4"
  }
 },
 "nbformat": 4,
 "nbformat_minor": 2
}
