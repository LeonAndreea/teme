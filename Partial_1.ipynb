{
 "cells": [
  {
   "cell_type": "markdown",
   "metadata": {},
   "source": [
    "## Descrieti un plan pentru constructia unui predictor pentru coloana label."
   ]
  },
  {
   "cell_type": "markdown",
   "metadata": {},
   "source": [
    "## 1. Importare baza de date\n",
    "Cu acest set de date, vom construi un model de clasificare binară care va lua intrările de mai sus ca caracteristici și va prezice dacă clientul va castiga mai mult de 50k sau nu. În cele din urmă, ne vom evalua modelul folosind Logistic regression."
   ]
  },
  {
   "cell_type": "code",
   "execution_count": 1,
   "metadata": {},
   "outputs": [
    {
     "data": {
      "text/html": [
       "<div>\n",
       "<style scoped>\n",
       "    .dataframe tbody tr th:only-of-type {\n",
       "        vertical-align: middle;\n",
       "    }\n",
       "\n",
       "    .dataframe tbody tr th {\n",
       "        vertical-align: top;\n",
       "    }\n",
       "\n",
       "    .dataframe thead th {\n",
       "        text-align: right;\n",
       "    }\n",
       "</style>\n",
       "<table border=\"1\" class=\"dataframe\">\n",
       "  <thead>\n",
       "    <tr style=\"text-align: right;\">\n",
       "      <th></th>\n",
       "      <th>Unnamed: 0</th>\n",
       "      <th>age</th>\n",
       "      <th>workclass</th>\n",
       "      <th>fnlwgt</th>\n",
       "      <th>education</th>\n",
       "      <th>education-num</th>\n",
       "      <th>marital-status</th>\n",
       "      <th>occupation</th>\n",
       "      <th>relationship</th>\n",
       "      <th>race</th>\n",
       "      <th>sex</th>\n",
       "      <th>capital-gain</th>\n",
       "      <th>capital-loss</th>\n",
       "      <th>hours-per-week</th>\n",
       "      <th>native-country</th>\n",
       "      <th>label</th>\n",
       "    </tr>\n",
       "  </thead>\n",
       "  <tbody>\n",
       "    <tr>\n",
       "      <td>0</td>\n",
       "      <td>27239</td>\n",
       "      <td>34</td>\n",
       "      <td>Local-gov</td>\n",
       "      <td>144182</td>\n",
       "      <td>Preschool</td>\n",
       "      <td>1</td>\n",
       "      <td>Never-married</td>\n",
       "      <td>Adm-clerical</td>\n",
       "      <td>Own-child</td>\n",
       "      <td>Black</td>\n",
       "      <td>Female</td>\n",
       "      <td>0</td>\n",
       "      <td>0</td>\n",
       "      <td>25</td>\n",
       "      <td>United-States</td>\n",
       "      <td>&lt;=50K</td>\n",
       "    </tr>\n",
       "    <tr>\n",
       "      <td>1</td>\n",
       "      <td>19102</td>\n",
       "      <td>20</td>\n",
       "      <td>Private</td>\n",
       "      <td>100605</td>\n",
       "      <td>HS-grad</td>\n",
       "      <td>9</td>\n",
       "      <td>Never-married</td>\n",
       "      <td>Sales</td>\n",
       "      <td>Own-child</td>\n",
       "      <td>Other</td>\n",
       "      <td>Male</td>\n",
       "      <td>0</td>\n",
       "      <td>0</td>\n",
       "      <td>40</td>\n",
       "      <td>Puerto-Rico</td>\n",
       "      <td>&lt;=50K</td>\n",
       "    </tr>\n",
       "    <tr>\n",
       "      <td>2</td>\n",
       "      <td>16791</td>\n",
       "      <td>26</td>\n",
       "      <td>State-gov</td>\n",
       "      <td>152457</td>\n",
       "      <td>HS-grad</td>\n",
       "      <td>9</td>\n",
       "      <td>Never-married</td>\n",
       "      <td>Protective-serv</td>\n",
       "      <td>Not-in-family</td>\n",
       "      <td>White</td>\n",
       "      <td>Male</td>\n",
       "      <td>0</td>\n",
       "      <td>0</td>\n",
       "      <td>40</td>\n",
       "      <td>United-States</td>\n",
       "      <td>&lt;=50K</td>\n",
       "    </tr>\n",
       "    <tr>\n",
       "      <td>3</td>\n",
       "      <td>2832</td>\n",
       "      <td>57</td>\n",
       "      <td>Self-emp-not-inc</td>\n",
       "      <td>353808</td>\n",
       "      <td>Some-college</td>\n",
       "      <td>10</td>\n",
       "      <td>Married-civ-spouse</td>\n",
       "      <td>Sales</td>\n",
       "      <td>Husband</td>\n",
       "      <td>White</td>\n",
       "      <td>Male</td>\n",
       "      <td>0</td>\n",
       "      <td>0</td>\n",
       "      <td>60</td>\n",
       "      <td>United-States</td>\n",
       "      <td>&gt;50K</td>\n",
       "    </tr>\n",
       "    <tr>\n",
       "      <td>4</td>\n",
       "      <td>8228</td>\n",
       "      <td>48</td>\n",
       "      <td>State-gov</td>\n",
       "      <td>122086</td>\n",
       "      <td>HS-grad</td>\n",
       "      <td>9</td>\n",
       "      <td>Married-civ-spouse</td>\n",
       "      <td>Protective-serv</td>\n",
       "      <td>Husband</td>\n",
       "      <td>White</td>\n",
       "      <td>Male</td>\n",
       "      <td>0</td>\n",
       "      <td>0</td>\n",
       "      <td>40</td>\n",
       "      <td>United-States</td>\n",
       "      <td>&lt;=50K</td>\n",
       "    </tr>\n",
       "  </tbody>\n",
       "</table>\n",
       "</div>"
      ],
      "text/plain": [
       "   Unnamed: 0  age          workclass  fnlwgt      education  education-num  \\\n",
       "0       27239   34          Local-gov  144182      Preschool              1   \n",
       "1       19102   20            Private  100605        HS-grad              9   \n",
       "2       16791   26          State-gov  152457        HS-grad              9   \n",
       "3        2832   57   Self-emp-not-inc  353808   Some-college             10   \n",
       "4        8228   48          State-gov  122086        HS-grad              9   \n",
       "\n",
       "        marital-status        occupation    relationship    race      sex  \\\n",
       "0        Never-married      Adm-clerical       Own-child   Black   Female   \n",
       "1        Never-married             Sales       Own-child   Other     Male   \n",
       "2        Never-married   Protective-serv   Not-in-family   White     Male   \n",
       "3   Married-civ-spouse             Sales         Husband   White     Male   \n",
       "4   Married-civ-spouse   Protective-serv         Husband   White     Male   \n",
       "\n",
       "   capital-gain  capital-loss  hours-per-week  native-country   label  \n",
       "0             0             0              25   United-States   <=50K  \n",
       "1             0             0              40     Puerto-Rico   <=50K  \n",
       "2             0             0              40   United-States   <=50K  \n",
       "3             0             0              60   United-States    >50K  \n",
       "4             0             0              40   United-States   <=50K  "
      ]
     },
     "execution_count": 1,
     "metadata": {},
     "output_type": "execute_result"
    }
   ],
   "source": [
    "import numpy as np\n",
    "import pandas as pd\n",
    "import matplotlib as mpl\n",
    "import matplotlib.pyplot as plt \n",
    "import seaborn as sns\n",
    "from sklearn.preprocessing import StandardScaler\n",
    "import warnings\n",
    "warnings.filterwarnings('ignore');\n",
    "\n",
    "df = pd.read_csv(\"data_train.csv\")\n",
    "df.head()"
   ]
  },
  {
   "cell_type": "markdown",
   "metadata": {},
   "source": [
    "## 2. Analiza datelor \n",
    "O explorare inițială a setului de date precum găsirea numărului de înregistrări, numărul persoanelor care fac mai mult sau mai puțin de 50k etc, ne va arăta câți indivizi se potrivesc în fiecare grup."
   ]
  },
  {
   "cell_type": "code",
   "execution_count": 2,
   "metadata": {},
   "outputs": [
    {
     "name": "stdout",
     "output_type": "stream",
     "text": [
      "<class 'pandas.core.frame.DataFrame'>\n",
      "RangeIndex: 29304 entries, 0 to 29303\n",
      "Data columns (total 16 columns):\n",
      "Unnamed: 0        29304 non-null int64\n",
      "age               29304 non-null int64\n",
      "workclass         29304 non-null object\n",
      "fnlwgt            29304 non-null int64\n",
      "education         29304 non-null object\n",
      "education-num     29304 non-null int64\n",
      "marital-status    29304 non-null object\n",
      "occupation        29304 non-null object\n",
      "relationship      29304 non-null object\n",
      "race              29304 non-null object\n",
      "sex               29304 non-null object\n",
      "capital-gain      29304 non-null int64\n",
      "capital-loss      29304 non-null int64\n",
      "hours-per-week    29304 non-null int64\n",
      "native-country    29304 non-null object\n",
      "label             29304 non-null object\n",
      "dtypes: int64(7), object(9)\n",
      "memory usage: 3.6+ MB\n"
     ]
    }
   ],
   "source": [
    "df.info()"
   ]
  },
  {
   "cell_type": "code",
   "execution_count": 4,
   "metadata": {},
   "outputs": [
    {
     "data": {
      "text/plain": [
       "Unnamed: 0        0\n",
       "age               0\n",
       "workclass         0\n",
       "fnlwgt            0\n",
       "education         0\n",
       "education-num     0\n",
       "marital-status    0\n",
       "occupation        0\n",
       "relationship      0\n",
       "race              0\n",
       "sex               0\n",
       "capital-gain      0\n",
       "capital-loss      0\n",
       "hours-per-week    0\n",
       "native-country    0\n",
       "label             0\n",
       "dtype: int64"
      ]
     },
     "execution_count": 4,
     "metadata": {},
     "output_type": "execute_result"
    }
   ],
   "source": [
    "df.isnull().sum()"
   ]
  },
  {
   "cell_type": "markdown",
   "metadata": {},
   "source": [
    "Se observa din ultimile doua rezulate ca variabilele noastre nu au valori lipse, deoarece avem zero peste tot"
   ]
  },
  {
   "cell_type": "code",
   "execution_count": 5,
   "metadata": {},
   "outputs": [
    {
     "data": {
      "text/plain": [
       "(29304, 0, 0, 0.0)"
      ]
     },
     "execution_count": 5,
     "metadata": {},
     "output_type": "execute_result"
    }
   ],
   "source": [
    "nr_inregistrari=df.shape[0]              #Numarul total de inregistrari\n",
    "nr_mare_50k=df[df['label']=='>50k'].shape[0]     #Numarul de persoane care castiga mai mult de 50k\n",
    "nr_mic_50k=df[df['label']=='<=50k'].shape[0]     #Numarul de persoane care castiga mai putin de 50k\n",
    "procent_mare_50k=(nr_mare_50k/nr_inregistrari)*100     #Procentul persoanelor care castiga mai mult de 50k\n",
    "\n",
    "nr_inregistrari, nr_mare_50k,nr_mic_50k,procent_mare_50k\n"
   ]
  },
  {
   "cell_type": "markdown",
   "metadata": {},
   "source": [
    "## 3. Vizualizarea si explorarea variabilei dependente 'label'"
   ]
  },
  {
   "cell_type": "code",
   "execution_count": 6,
   "metadata": {},
   "outputs": [
    {
     "data": {
      "text/plain": [
       " <=50K    22289\n",
       " >50K      7015\n",
       "Name: label, dtype: int64"
      ]
     },
     "execution_count": 6,
     "metadata": {},
     "output_type": "execute_result"
    }
   ],
   "source": [
    "df['label'].value_counts()   "
   ]
  },
  {
   "cell_type": "markdown",
   "metadata": {},
   "source": [
    "Se observa ca avem un numar de 22289 persoane cu un venit mai mic decat 50k si un numar de 7015 de persoane cu un venit mai mare de 50k "
   ]
  },
  {
   "cell_type": "code",
   "execution_count": 7,
   "metadata": {},
   "outputs": [
    {
     "data": {
      "image/png": "[encoded data removed]",
      "text/plain": [
       "<Figure size 432x288 with 1 Axes>"
      ]
     },
     "metadata": {
      "needs_background": "light"
     },
     "output_type": "display_data"
    }
   ],
   "source": [
    "sns.countplot(x='label',data=df,palette='hls')\n",
    "plt.show()"
   ]
  },
  {
   "cell_type": "code",
   "execution_count": 74,
   "metadata": {},
   "outputs": [
    {
     "data": {
      "text/plain": [
       "array([[<matplotlib.axes._subplots.AxesSubplot object at 0x000001CF5476A1C8>,\n",
       "        <matplotlib.axes._subplots.AxesSubplot object at 0x000001CF5478ADC8>,\n",
       "        <matplotlib.axes._subplots.AxesSubplot object at 0x000001CF549628C8>,\n",
       "        <matplotlib.axes._subplots.AxesSubplot object at 0x000001CF54999648>],\n",
       "       [<matplotlib.axes._subplots.AxesSubplot object at 0x000001CF549CF3C8>,\n",
       "        <matplotlib.axes._subplots.AxesSubplot object at 0x000001CF54A08148>,\n",
       "        <matplotlib.axes._subplots.AxesSubplot object at 0x000001CF54A37CC8>,\n",
       "        <matplotlib.axes._subplots.AxesSubplot object at 0x000001CF54A6CA48>],\n",
       "       [<matplotlib.axes._subplots.AxesSubplot object at 0x000001CF54A74888>,\n",
       "        <matplotlib.axes._subplots.AxesSubplot object at 0x000001CF54AAC808>,\n",
       "        <matplotlib.axes._subplots.AxesSubplot object at 0x000001CF54B14608>,\n",
       "        <matplotlib.axes._subplots.AxesSubplot object at 0x000001CF54B4B748>],\n",
       "       [<matplotlib.axes._subplots.AxesSubplot object at 0x000001CF54B84808>,\n",
       "        <matplotlib.axes._subplots.AxesSubplot object at 0x000001CF54BBD908>,\n",
       "        <matplotlib.axes._subplots.AxesSubplot object at 0x000001CF54BF7A48>,\n",
       "        <matplotlib.axes._subplots.AxesSubplot object at 0x000001CF54C30B48>]],\n",
       "      dtype=object)"
      ]
     },
     "execution_count": 74,
     "metadata": {},
     "output_type": "execute_result"
    },
    {
     "data": {
      "image/png": "[encoded data removed]",
      "text/plain": [
       "<Figure size 1440x864 with 16 Axes>"
      ]
     },
     "metadata": {
      "needs_background": "light"
     },
     "output_type": "display_data"
    }
   ],
   "source": [
    "from matplotlib import rcParams\n",
    "rcParams['figure.figsize'] = 20, 12\n",
    "df[['Unnamed: 0','age','workclass','fnlwgt','education','education-num','marital-status','occupation','relationship','race','sex','capital-gain','capital-loss','hours-per-week','native-country']].hist()"
   ]
  },
  {
   "cell_type": "markdown",
   "metadata": {},
   "source": [
    "## 2. Convertirea numerica a coloanelor "
   ]
  },
  {
   "cell_type": "code",
   "execution_count": 9,
   "metadata": {},
   "outputs": [
    {
     "data": {
      "text/plain": [
       "Unnamed: 0         int64\n",
       "age                int64\n",
       "workclass         object\n",
       "fnlwgt             int64\n",
       "education         object\n",
       "education-num      int64\n",
       "marital-status    object\n",
       "occupation        object\n",
       "relationship      object\n",
       "race              object\n",
       "sex               object\n",
       "capital-gain       int64\n",
       "capital-loss       int64\n",
       "hours-per-week     int64\n",
       "native-country    object\n",
       "label             object\n",
       "dtype: object"
      ]
     },
     "execution_count": 9,
     "metadata": {},
     "output_type": "execute_result"
    }
   ],
   "source": [
    "df.dtypes"
   ]
  },
  {
   "cell_type": "markdown",
   "metadata": {},
   "source": [
    "Se observa ca nu toate variabilele noastre au valori numerice. Variabilele care nu sunt numerice sunt evidentiate cu \"object\".\n",
    "\n",
    "Scopul nostru va fi ca toate coloanele din tabel sa fie cu valori numerice."
   ]
  },
  {
   "cell_type": "code",
   "execution_count": 10,
   "metadata": {},
   "outputs": [
    {
     "data": {
      "text/plain": [
       "(0        2\n",
       " 1        4\n",
       " 2        7\n",
       " 3        6\n",
       " 4        7\n",
       "         ..\n",
       " 29299    4\n",
       " 29300    1\n",
       " 29301    4\n",
       " 29302    0\n",
       " 29303    4\n",
       " Name: workclass, Length: 29304, dtype: int32, 0        13\n",
       " 1        11\n",
       " 2        11\n",
       " 3        15\n",
       " 4        11\n",
       "          ..\n",
       " 29299    11\n",
       " 29300    12\n",
       " 29301     9\n",
       " 29302    15\n",
       " 29303    11\n",
       " Name: education, Length: 29304, dtype: int32, 0        4\n",
       " 1        4\n",
       " 2        4\n",
       " 3        2\n",
       " 4        2\n",
       "         ..\n",
       " 29299    4\n",
       " 29300    4\n",
       " 29301    2\n",
       " 29302    2\n",
       " 29303    2\n",
       " Name: marital-status, Length: 29304, dtype: int32, 0         1\n",
       " 1        12\n",
       " 2        11\n",
       " 3        12\n",
       " 4        11\n",
       "          ..\n",
       " 29299     9\n",
       " 29300     4\n",
       " 29301    12\n",
       " 29302     0\n",
       " 29303     3\n",
       " Name: occupation, Length: 29304, dtype: int32, 0        3\n",
       " 1        3\n",
       " 2        1\n",
       " 3        0\n",
       " 4        0\n",
       "         ..\n",
       " 29299    2\n",
       " 29300    3\n",
       " 29301    5\n",
       " 29302    0\n",
       " 29303    0\n",
       " Name: relationship, Length: 29304, dtype: int32, 0        2\n",
       " 1        3\n",
       " 2        4\n",
       " 3        4\n",
       " 4        4\n",
       "         ..\n",
       " 29299    4\n",
       " 29300    4\n",
       " 29301    4\n",
       " 29302    4\n",
       " 29303    4\n",
       " Name: race, Length: 29304, dtype: int32, 0        0\n",
       " 1        1\n",
       " 2        1\n",
       " 3        1\n",
       " 4        1\n",
       "         ..\n",
       " 29299    0\n",
       " 29300    0\n",
       " 29301    0\n",
       " 29302    1\n",
       " 29303    1\n",
       " Name: sex, Length: 29304, dtype: int32, 0        39\n",
       " 1        33\n",
       " 2        39\n",
       " 3        39\n",
       " 4        39\n",
       "          ..\n",
       " 29299    39\n",
       " 29300    39\n",
       " 29301    39\n",
       " 29302    39\n",
       " 29303    39\n",
       " Name: native-country, Length: 29304, dtype: int32, 0        0\n",
       " 1        0\n",
       " 2        0\n",
       " 3        1\n",
       " 4        0\n",
       "         ..\n",
       " 29299    0\n",
       " 29300    0\n",
       " 29301    0\n",
       " 29302    0\n",
       " 29303    0\n",
       " Name: label, Length: 29304, dtype: int32)"
      ]
     },
     "execution_count": 10,
     "metadata": {},
     "output_type": "execute_result"
    }
   ],
   "source": [
    "from sklearn.preprocessing import LabelEncoder\n",
    "\n",
    "labelEncoder = LabelEncoder()\n",
    "df['workclass'] = labelEncoder.fit_transform(df['workclass'])\n",
    "df['education'] = labelEncoder.fit_transform(df['education'])\n",
    "df['marital-status'] = labelEncoder.fit_transform(df['marital-status'])\n",
    "df['occupation'] = labelEncoder.fit_transform(df['occupation'])\n",
    "df['relationship'] = labelEncoder.fit_transform(df['relationship'])\n",
    "df['race'] = labelEncoder.fit_transform(df['race'])\n",
    "df['sex'] = labelEncoder.fit_transform(df['sex'])\n",
    "df['native-country'] = labelEncoder.fit_transform(df['native-country'])\n",
    "df['label']= labelEncoder.fit_transform(df['label'])\n",
    "\n",
    "df['workclass'],df['education'],df['marital-status'],df['occupation'],df['relationship'],df['race'],df['sex'],df['native-country'],df['label']"
   ]
  },
  {
   "cell_type": "code",
   "execution_count": 11,
   "metadata": {},
   "outputs": [
    {
     "data": {
      "text/plain": [
       "Unnamed: 0        int64\n",
       "age               int64\n",
       "workclass         int32\n",
       "fnlwgt            int64\n",
       "education         int32\n",
       "education-num     int64\n",
       "marital-status    int32\n",
       "occupation        int32\n",
       "relationship      int32\n",
       "race              int32\n",
       "sex               int32\n",
       "capital-gain      int64\n",
       "capital-loss      int64\n",
       "hours-per-week    int64\n",
       "native-country    int32\n",
       "label             int32\n",
       "dtype: object"
      ]
     },
     "execution_count": 11,
     "metadata": {},
     "output_type": "execute_result"
    }
   ],
   "source": [
    "#verificarea:\n",
    "df.dtypes"
   ]
  },
  {
   "cell_type": "markdown",
   "metadata": {},
   "source": [
    "Se observa ca toate caracteristicile noastre sunt numerice si ne va fi mai usor sa facem predictia"
   ]
  },
  {
   "cell_type": "code",
   "execution_count": 12,
   "metadata": {},
   "outputs": [
    {
     "data": {
      "text/html": [
       "<div>\n",
       "<style scoped>\n",
       "    .dataframe tbody tr th:only-of-type {\n",
       "        vertical-align: middle;\n",
       "    }\n",
       "\n",
       "    .dataframe tbody tr th {\n",
       "        vertical-align: top;\n",
       "    }\n",
       "\n",
       "    .dataframe thead th {\n",
       "        text-align: right;\n",
       "    }\n",
       "</style>\n",
       "<table border=\"1\" class=\"dataframe\">\n",
       "  <thead>\n",
       "    <tr style=\"text-align: right;\">\n",
       "      <th></th>\n",
       "      <th>Unnamed: 0</th>\n",
       "      <th>age</th>\n",
       "      <th>workclass</th>\n",
       "      <th>fnlwgt</th>\n",
       "      <th>education</th>\n",
       "      <th>education-num</th>\n",
       "      <th>marital-status</th>\n",
       "      <th>occupation</th>\n",
       "      <th>relationship</th>\n",
       "      <th>race</th>\n",
       "      <th>sex</th>\n",
       "      <th>capital-gain</th>\n",
       "      <th>capital-loss</th>\n",
       "      <th>hours-per-week</th>\n",
       "      <th>native-country</th>\n",
       "      <th>label</th>\n",
       "    </tr>\n",
       "  </thead>\n",
       "  <tbody>\n",
       "    <tr>\n",
       "      <td>0</td>\n",
       "      <td>27239</td>\n",
       "      <td>34</td>\n",
       "      <td>2</td>\n",
       "      <td>144182</td>\n",
       "      <td>13</td>\n",
       "      <td>1</td>\n",
       "      <td>4</td>\n",
       "      <td>1</td>\n",
       "      <td>3</td>\n",
       "      <td>2</td>\n",
       "      <td>0</td>\n",
       "      <td>0</td>\n",
       "      <td>0</td>\n",
       "      <td>25</td>\n",
       "      <td>39</td>\n",
       "      <td>0</td>\n",
       "    </tr>\n",
       "    <tr>\n",
       "      <td>1</td>\n",
       "      <td>19102</td>\n",
       "      <td>20</td>\n",
       "      <td>4</td>\n",
       "      <td>100605</td>\n",
       "      <td>11</td>\n",
       "      <td>9</td>\n",
       "      <td>4</td>\n",
       "      <td>12</td>\n",
       "      <td>3</td>\n",
       "      <td>3</td>\n",
       "      <td>1</td>\n",
       "      <td>0</td>\n",
       "      <td>0</td>\n",
       "      <td>40</td>\n",
       "      <td>33</td>\n",
       "      <td>0</td>\n",
       "    </tr>\n",
       "    <tr>\n",
       "      <td>2</td>\n",
       "      <td>16791</td>\n",
       "      <td>26</td>\n",
       "      <td>7</td>\n",
       "      <td>152457</td>\n",
       "      <td>11</td>\n",
       "      <td>9</td>\n",
       "      <td>4</td>\n",
       "      <td>11</td>\n",
       "      <td>1</td>\n",
       "      <td>4</td>\n",
       "      <td>1</td>\n",
       "      <td>0</td>\n",
       "      <td>0</td>\n",
       "      <td>40</td>\n",
       "      <td>39</td>\n",
       "      <td>0</td>\n",
       "    </tr>\n",
       "    <tr>\n",
       "      <td>3</td>\n",
       "      <td>2832</td>\n",
       "      <td>57</td>\n",
       "      <td>6</td>\n",
       "      <td>353808</td>\n",
       "      <td>15</td>\n",
       "      <td>10</td>\n",
       "      <td>2</td>\n",
       "      <td>12</td>\n",
       "      <td>0</td>\n",
       "      <td>4</td>\n",
       "      <td>1</td>\n",
       "      <td>0</td>\n",
       "      <td>0</td>\n",
       "      <td>60</td>\n",
       "      <td>39</td>\n",
       "      <td>1</td>\n",
       "    </tr>\n",
       "    <tr>\n",
       "      <td>4</td>\n",
       "      <td>8228</td>\n",
       "      <td>48</td>\n",
       "      <td>7</td>\n",
       "      <td>122086</td>\n",
       "      <td>11</td>\n",
       "      <td>9</td>\n",
       "      <td>2</td>\n",
       "      <td>11</td>\n",
       "      <td>0</td>\n",
       "      <td>4</td>\n",
       "      <td>1</td>\n",
       "      <td>0</td>\n",
       "      <td>0</td>\n",
       "      <td>40</td>\n",
       "      <td>39</td>\n",
       "      <td>0</td>\n",
       "    </tr>\n",
       "  </tbody>\n",
       "</table>\n",
       "</div>"
      ],
      "text/plain": [
       "   Unnamed: 0  age  workclass  fnlwgt  education  education-num  \\\n",
       "0       27239   34          2  144182         13              1   \n",
       "1       19102   20          4  100605         11              9   \n",
       "2       16791   26          7  152457         11              9   \n",
       "3        2832   57          6  353808         15             10   \n",
       "4        8228   48          7  122086         11              9   \n",
       "\n",
       "   marital-status  occupation  relationship  race  sex  capital-gain  \\\n",
       "0               4           1             3     2    0             0   \n",
       "1               4          12             3     3    1             0   \n",
       "2               4          11             1     4    1             0   \n",
       "3               2          12             0     4    1             0   \n",
       "4               2          11             0     4    1             0   \n",
       "\n",
       "   capital-loss  hours-per-week  native-country  label  \n",
       "0             0              25              39      0  \n",
       "1             0              40              33      0  \n",
       "2             0              40              39      0  \n",
       "3             0              60              39      1  \n",
       "4             0              40              39      0  "
      ]
     },
     "execution_count": 12,
     "metadata": {},
     "output_type": "execute_result"
    }
   ],
   "source": [
    "df.head()"
   ]
  },
  {
   "cell_type": "markdown",
   "metadata": {},
   "source": [
    "## 3. Impartirea datelor in variabile dependente si independente\n",
    "\n",
    "Y reprezinta variabila depedenta \n",
    "\n",
    "X reprezinta setul de variabile independente"
   ]
  },
  {
   "cell_type": "code",
   "execution_count": 51,
   "metadata": {},
   "outputs": [
    {
     "data": {
      "text/plain": [
       "(       Unnamed: 0  age  workclass  fnlwgt  education  education-num  \\\n",
       " 0           27239   34          2  144182         13              1   \n",
       " 1           19102   20          4  100605         11              9   \n",
       " 2           16791   26          7  152457         11              9   \n",
       " 3            2832   57          6  353808         15             10   \n",
       " 4            8228   48          7  122086         11              9   \n",
       " ...           ...  ...        ...     ...        ...            ...   \n",
       " 29299       19268   18          4   59202         11              9   \n",
       " 29300       11724   37          1  194630         12             14   \n",
       " 29301       15729   29          4  122112          9             13   \n",
       " 29302        3231   52          0  134447         15             10   \n",
       " 29303        8900   24          4  172612         11              9   \n",
       " \n",
       "        marital-status  occupation  relationship  race  sex  capital-gain  \\\n",
       " 0                   4           1             3     2    0             0   \n",
       " 1                   4          12             3     3    1             0   \n",
       " 2                   4          11             1     4    1             0   \n",
       " 3                   2          12             0     4    1             0   \n",
       " 4                   2          11             0     4    1             0   \n",
       " ...               ...         ...           ...   ...  ...           ...   \n",
       " 29299               4           9             2     4    0             0   \n",
       " 29300               4           4             3     4    0             0   \n",
       " 29301               2          12             5     4    0             0   \n",
       " 29302               2           0             0     4    1             0   \n",
       " 29303               2           3             0     4    1             0   \n",
       " \n",
       "        capital-loss  hours-per-week  native-country  \n",
       " 0                 0              25              39  \n",
       " 1                 0              40              33  \n",
       " 2                 0              40              39  \n",
       " 3                 0              60              39  \n",
       " 4                 0              40              39  \n",
       " ...             ...             ...             ...  \n",
       " 29299             0              10              39  \n",
       " 29300             0              40              39  \n",
       " 29301             0              50              39  \n",
       " 29302             0              50              39  \n",
       " 29303             0              40              39  \n",
       " \n",
       " [29304 rows x 15 columns], 0        0\n",
       " 1        0\n",
       " 2        0\n",
       " 3        1\n",
       " 4        0\n",
       "         ..\n",
       " 29299    0\n",
       " 29300    0\n",
       " 29301    0\n",
       " 29302    0\n",
       " 29303    0\n",
       " Name: label, Length: 29304, dtype: int32)"
      ]
     },
     "execution_count": 51,
     "metadata": {},
     "output_type": "execute_result"
    }
   ],
   "source": [
    "X=df[['Unnamed: 0','age','workclass','fnlwgt','education','education-num','marital-status','occupation','relationship','race','sex','capital-gain','capital-loss','hours-per-week','native-country']]\n",
    "Y=df['label']\n",
    "X,Y"
   ]
  },
  {
   "cell_type": "markdown",
   "metadata": {},
   "source": [
    "## 5.  Modelul de Regresie Logistica"
   ]
  },
  {
   "cell_type": "code",
   "execution_count": 58,
   "metadata": {},
   "outputs": [
    {
     "data": {
      "text/plain": [
       "(       Unnamed: 0  age  workclass  fnlwgt  education  education-num  \\\n",
       " 348         19273   18          4  308889          1              7   \n",
       " 2157         1094   21          4  163870         15             10   \n",
       " 17882       17568   52          4  126978         11              9   \n",
       " 10084       25981   63          4  196725         11              9   \n",
       " 24129       10778   24          4  142022         15             10   \n",
       " ...           ...  ...        ...     ...        ...            ...   \n",
       " 13123        3805   19          0  423863         15             10   \n",
       " 19648       10284   63          1   95680         15             10   \n",
       " 9845        14473   53          2  233722          7             12   \n",
       " 10799         294   27          4  248402          9             13   \n",
       " 2732         6349   50          2  145166         12             14   \n",
       " \n",
       "        marital-status  occupation  relationship  race  sex  capital-gain  \\\n",
       " 348                 4           1             2     1    0             0   \n",
       " 2157                4           1             3     4    1             0   \n",
       " 17882               2           7             5     1    0             0   \n",
       " 10084               6           8             4     4    0             0   \n",
       " 24129               4           6             3     4    1             0   \n",
       " ...               ...         ...           ...   ...  ...           ...   \n",
       " 13123               4           0             3     4    0             0   \n",
       " 19648               2          13             0     4    1             0   \n",
       " 9845                4           1             1     2    1             0   \n",
       " 10799               4          13             4     2    0             0   \n",
       " 2732                2          10             0     4    1          7298   \n",
       " \n",
       "        capital-loss  hours-per-week  native-country  \n",
       " 348               0              20              39  \n",
       " 2157              0              40              39  \n",
       " 17882             0              40               3  \n",
       " 10084             0              24              39  \n",
       " 24129             0              50              39  \n",
       " ...             ...             ...             ...  \n",
       " 13123             0              35              39  \n",
       " 19648             0              18              39  \n",
       " 9845              0              40              39  \n",
       " 10799             0              40              39  \n",
       " 2732              0              40              39  \n",
       " \n",
       " [23443 rows x 15 columns],\n",
       "        Unnamed: 0  age  workclass  fnlwgt  education  education-num  \\\n",
       " 7994        21112   32          4  199529         15             10   \n",
       " 9947        31836   80          0  281768          7             12   \n",
       " 5775        13108   37          2   52465         11              9   \n",
       " 10928       18887   37          4  140713         15             10   \n",
       " 17891       16253   33          4  184306         11              9   \n",
       " ...           ...  ...        ...     ...        ...            ...   \n",
       " 3180        16564   30          4  272669         15             10   \n",
       " 12664       23602   31          7  161631         15             10   \n",
       " 16560       16008   35          7  172327          9             13   \n",
       " 24699       28210   55          0  102058          2              8   \n",
       " 20874       28322   28          4  173944         12             14   \n",
       " \n",
       "        marital-status  occupation  relationship  race  sex  capital-gain  \\\n",
       " 7994                5          13             1     0    1             0   \n",
       " 9947                2           0             0     4    1             0   \n",
       " 5775                4           8             1     4    1             0   \n",
       " 10928               2           1             0     2    1             0   \n",
       " 17891               0           6             4     4    1             0   \n",
       " ...               ...         ...           ...   ...  ...           ...   \n",
       " 3180                4          13             1     1    1             0   \n",
       " 12664               0           1             4     4    0             0   \n",
       " 16560               5           4             1     4    1             0   \n",
       " 24699               6           0             1     4    1             0   \n",
       " 20874               2          10             0     4    1             0   \n",
       " \n",
       "        capital-loss  hours-per-week  native-country  \n",
       " 7994           1980              40              39  \n",
       " 9947              0               4              39  \n",
       " 5775              0              40              39  \n",
       " 10928             0              40              23  \n",
       " 17891             0              30              39  \n",
       " ...             ...             ...             ...  \n",
       " 3180              0              40              39  \n",
       " 12664             0              40              39  \n",
       " 16560             0              42              39  \n",
       " 24699             0              30              39  \n",
       " 20874             0              40              39  \n",
       " \n",
       " [5861 rows x 15 columns],\n",
       " 348      0\n",
       " 2157     0\n",
       " 17882    0\n",
       " 10084    0\n",
       " 24129    0\n",
       "         ..\n",
       " 13123    0\n",
       " 19648    1\n",
       " 9845     0\n",
       " 10799    0\n",
       " 2732     1\n",
       " Name: label, Length: 23443, dtype: int32,\n",
       " 7994     0\n",
       " 9947     0\n",
       " 5775     0\n",
       " 10928    1\n",
       " 17891    0\n",
       "         ..\n",
       " 3180     0\n",
       " 12664    0\n",
       " 16560    0\n",
       " 24699    0\n",
       " 20874    1\n",
       " Name: label, Length: 5861, dtype: int32)"
      ]
     },
     "execution_count": 58,
     "metadata": {},
     "output_type": "execute_result"
    }
   ],
   "source": [
    "from sklearn.model_selection import train_test_split\n",
    "X_train ,X_test, Y_train, Y_test=train_test_split(X,Y,test_size=0.20,random_state=0)\n",
    "X_train ,X_test, Y_train, Y_test"
   ]
  },
  {
   "cell_type": "code",
   "execution_count": 54,
   "metadata": {},
   "outputs": [
    {
     "data": {
      "text/plain": [
       "LogisticRegression(C=1.0, class_weight=None, dual=False, fit_intercept=True,\n",
       "                   intercept_scaling=1, l1_ratio=None, max_iter=100,\n",
       "                   multi_class='warn', n_jobs=None, penalty='l2',\n",
       "                   random_state=None, solver='warn', tol=0.0001, verbose=0,\n",
       "                   warm_start=False)"
      ]
     },
     "execution_count": 54,
     "metadata": {},
     "output_type": "execute_result"
    }
   ],
   "source": [
    "from sklearn.linear_model import LogisticRegression\n",
    "# crearea de instante \n",
    "logistic_model=LogisticRegression()\n",
    "logistic_model.fit(X_train,Y_train)"
   ]
  },
  {
   "cell_type": "markdown",
   "metadata": {},
   "source": [
    "## 6. Predictia \n",
    "\n",
    "Acum că ne-am pregătit algoritmul, este timpul să facem niște predicții. Pentru a face acest lucru, vom folosi datele noastre de testare și vom vedea cât de exact prezice algoritmul nostru in ceea ce priveste castigul unui venit de peste 50k sau nu. Pentru a face predicții cu privire la datele de testare, executați următorul script:"
   ]
  },
  {
   "cell_type": "code",
   "execution_count": 60,
   "metadata": {},
   "outputs": [
    {
     "data": {
      "text/plain": [
       "array([0, 0, 0, ..., 0, 0, 0])"
      ]
     },
     "execution_count": 60,
     "metadata": {},
     "output_type": "execute_result"
    }
   ],
   "source": [
    "Y_predictie=logistic_model.predict(X_test)\n",
    "Y_predictie"
   ]
  },
  {
   "cell_type": "code",
   "execution_count": 62,
   "metadata": {},
   "outputs": [
    {
     "data": {
      "text/html": [
       "<div>\n",
       "<style scoped>\n",
       "    .dataframe tbody tr th:only-of-type {\n",
       "        vertical-align: middle;\n",
       "    }\n",
       "\n",
       "    .dataframe tbody tr th {\n",
       "        vertical-align: top;\n",
       "    }\n",
       "\n",
       "    .dataframe thead th {\n",
       "        text-align: right;\n",
       "    }\n",
       "</style>\n",
       "<table border=\"1\" class=\"dataframe\">\n",
       "  <thead>\n",
       "    <tr style=\"text-align: right;\">\n",
       "      <th></th>\n",
       "      <th>Actual</th>\n",
       "      <th>Predicted</th>\n",
       "    </tr>\n",
       "  </thead>\n",
       "  <tbody>\n",
       "    <tr>\n",
       "      <td>0</td>\n",
       "      <td>0</td>\n",
       "      <td>0</td>\n",
       "    </tr>\n",
       "    <tr>\n",
       "      <td>1</td>\n",
       "      <td>0</td>\n",
       "      <td>0</td>\n",
       "    </tr>\n",
       "    <tr>\n",
       "      <td>2</td>\n",
       "      <td>0</td>\n",
       "      <td>0</td>\n",
       "    </tr>\n",
       "    <tr>\n",
       "      <td>3</td>\n",
       "      <td>1</td>\n",
       "      <td>0</td>\n",
       "    </tr>\n",
       "    <tr>\n",
       "      <td>4</td>\n",
       "      <td>0</td>\n",
       "      <td>0</td>\n",
       "    </tr>\n",
       "  </tbody>\n",
       "</table>\n",
       "</div>"
      ],
      "text/plain": [
       "   Actual  Predicted\n",
       "0       0          0\n",
       "1       0          0\n",
       "2       0          0\n",
       "3       1          0\n",
       "4       0          0"
      ]
     },
     "execution_count": 62,
     "metadata": {},
     "output_type": "execute_result"
    }
   ],
   "source": [
    "import numpy as np\n",
    "Y_test = np.array(list(Y_test))\n",
    "Y_pred = np.array(Y_predictie)\n",
    "\n",
    "df_predictie = pd.DataFrame({'Actual': Y_test.flatten(), 'Predicted': Y_predictie.flatten()})\n",
    "df_predictie.head(5)\n"
   ]
  },
  {
   "cell_type": "markdown",
   "metadata": {},
   "source": [
    "## 7. Evaluarea modelului de regresie logistic folosind 'Confusion Matrix'"
   ]
  },
  {
   "cell_type": "code",
   "execution_count": 63,
   "metadata": {},
   "outputs": [
    {
     "data": {
      "text/plain": [
       "array([[4287,  208],\n",
       "       [ 955,  411]], dtype=int64)"
      ]
     },
     "execution_count": 63,
     "metadata": {},
     "output_type": "execute_result"
    }
   ],
   "source": [
    "from sklearn.metrics import confusion_matrix\n",
    "from sklearn.metrics import classification_report\n",
    "from sklearn.metrics import confusion_matrix,accuracy_score\n",
    " \n",
    "Y_predictie=logistic_model.predict(X_test)\n",
    "confusion_matrix=confusion_matrix(Y_test,Y_predictie)\n",
    "confusion_matrix\n"
   ]
  },
  {
   "cell_type": "markdown",
   "metadata": {},
   "source": [
    "Aici avem urmatoarele valori observate:\n",
    "\n",
    "### True Positive = 4287\n",
    "\n",
    "### False Positive = 955\n",
    "\n",
    "### False Negative = 208\n",
    "\n",
    "### True Negative = 411"
   ]
  },
  {
   "cell_type": "markdown",
   "metadata": {},
   "source": [
    "Aici, puteți vedea Confusion Matrix sub forma obiectului tablou. Dimensiunea acestei matrice este 2 x 2 deoarece acest model este o clasificare binară. Aveți două clase 0 și 1.\n",
    "\n",
    "Valorile diagonale reprezintă predicții exacte, în timp ce elementele care nu sunt diagonale sunt predicții inexacte.\n",
    "\n",
    "În rezultat, 4287 și 411 sunt predicții reale, iar 955 și 208 sunt previziuni incorecte."
   ]
  },
  {
   "cell_type": "code",
   "execution_count": 64,
   "metadata": {},
   "outputs": [
    {
     "name": "stdout",
     "output_type": "stream",
     "text": [
      "              precision    recall  f1-score   support\n",
      "\n",
      "           0       0.82      0.95      0.88      4495\n",
      "           1       0.66      0.30      0.41      1366\n",
      "\n",
      "    accuracy                           0.80      5861\n",
      "   macro avg       0.74      0.63      0.65      5861\n",
      "weighted avg       0.78      0.80      0.77      5861\n",
      "\n",
      "0.8015696980037537\n"
     ]
    }
   ],
   "source": [
    "print(classification_report(Y_test, Y_predictie))  \n",
    "print(accuracy_score(Y_test, Y_predictie))   # acuratetia "
   ]
  },
  {
   "cell_type": "markdown",
   "metadata": {},
   "source": [
    "## 7. Vizualizarea 'Confusion Matrix'"
   ]
  },
  {
   "cell_type": "code",
   "execution_count": 71,
   "metadata": {},
   "outputs": [
    {
     "data": {
      "text/plain": [
       "Text(0.5, 257.44, 'Predicted label')"
      ]
     },
     "execution_count": 71,
     "metadata": {},
     "output_type": "execute_result"
    },
    {
     "data": {
      "image/png": "[encoded data removed]",
      "text/plain": [
       "<Figure size 432x288 with 2 Axes>"
      ]
     },
     "metadata": {
      "needs_background": "light"
     },
     "output_type": "display_data"
    }
   ],
   "source": [
    "fig, ax = plt.subplots()\n",
    "tick_marks = np.arange(len('label'))\n",
    "plt.xticks(tick_marks, 'label')\n",
    "plt.yticks(tick_marks, 'label')\n",
    "sns.heatmap(pd.DataFrame(confusion_matrix), annot=True, cmap=\"viridis\" ,fmt='g')\n",
    "ax.xaxis.set_label_position(\"top\")\n",
    "plt.tight_layout()\n",
    "plt.title('Confusion matrix', y=1.1)\n",
    "plt.ylabel('Actual label')\n",
    "plt.xlabel('Predicted label')"
   ]
  }
 ],
 "metadata": {
  "kernelspec": {
   "display_name": "Python 3",
   "language": "python",
   "name": "python3"
  },
  "language_info": {
   "codemirror_mode": {
    "name": "ipython",
    "version": 3
   },
   "file_extension": ".py",
   "mimetype": "text/x-python",
   "name": "python",
   "nbconvert_exporter": "python",
   "pygments_lexer": "ipython3",
   "version": "3.7.4"
  }
 },
 "nbformat": 4,
 "nbformat_minor": 2
}
